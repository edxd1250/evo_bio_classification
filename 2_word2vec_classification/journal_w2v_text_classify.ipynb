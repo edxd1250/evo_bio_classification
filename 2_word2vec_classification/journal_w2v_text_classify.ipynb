{
 "cells": [
  {
   "cell_type": "markdown",
   "metadata": {},
   "source": [
    "## Changelog/Notes\n",
    "\n",
    "6/3/2024\n",
    "- File created\n",
    "- based on script_2_3_text_classifiy_w2v.py by Shin-Han Shiu."
   ]
  },
  {
   "cell_type": "markdown",
   "metadata": {},
   "source": [
    "#### **Goal:** To create w2v classification model for distinguishing evolutionary biology journals (*or any given corpus of journals*) from non evolutionary biology journals "
   ]
  },
  {
   "cell_type": "code",
   "execution_count": null,
   "metadata": {},
   "outputs": [],
   "source": []
  }
 ],
 "metadata": {
  "kernelspec": {
   "display_name": "Python 3.12.3 ('bio_class': conda)",
   "language": "python",
   "name": "python3"
  },
  "language_info": {
   "name": "python",
   "version": "3.12.3"
  },
  "orig_nbformat": 4,
  "vscode": {
   "interpreter": {
    "hash": "e1766e5787634220c7f23f232a177b675317a96cd0271294b227f2c2cc99d721"
   }
  }
 },
 "nbformat": 4,
 "nbformat_minor": 2
}
