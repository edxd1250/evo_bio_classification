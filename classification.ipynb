{
 "cells": [
  {
   "cell_type": "markdown",
   "metadata": {},
   "source": [
    "Changelog\n",
    "05/28/2024\n",
    "- Successfully installed joblib-1.4.2 numpy-1.26.4 scikit-learn-1.5.0 scipy-1.13.1 threadpoolctl-3.5.0\n",
    "\n",
    "05/24/2024\n",
    "- File created\n",
    "- Fresh env created: \"bio_class\" running python 3.12.3"
   ]
  },
  {
   "cell_type": "code",
   "execution_count": 1,
   "metadata": {},
   "outputs": [],
   "source": [
    "##load packages\n",
    "from pathlib import Path\n",
    "from sklearn.feature_extraction.text import TfidfVectorizer"
   ]
  },
  {
   "cell_type": "markdown",
   "metadata": {},
   "source": [
    "#### Define Path Locations"
   ]
  },
  {
   "cell_type": "code",
   "execution_count": null,
   "metadata": {},
   "outputs": [],
   "source": [
    "# path to working directory (within project directory)\n",
    "work_dir          = Path('/mnt/scratch/ande2472/model_output/evo_bio_class')\n",
    "\n",
    "\n",
    "\n"
   ]
  },
  {
   "cell_type": "markdown",
   "metadata": {},
   "source": [
    "#### Define Functions"
   ]
  },
  {
   "cell_type": "code",
   "execution_count": 2,
   "metadata": {},
   "outputs": [],
   "source": [
    "def compute_tfidf(corpus, vocab):\n",
    "    '''\n",
    "    Compute TF-IDF scores for given corpus and dictionary of words.\n",
    "\n",
    "    Parameters:\n",
    "    corpus (list of str): List of text documents/abstracts.\n",
    "    vocab (list of str): Dictionary of words for desired tf-idf scores.\n",
    "\n",
    "    Returns:\n",
    "    sparse_matrix (scipy.sparse.csr.csr_matrix): Sparse matrix containing corresponding corpus TF-IDF scores for the given vocab.\n",
    "    feature_names (list of str): List of words corresponding to columns of the sparse matrix.\n",
    "    \n",
    "    '''\n",
    "    # Initialize the TfidfVectorizer with the given dictionary\n",
    "    vectorizer = TfidfVectorizer(vocabulary=vocab)\n",
    "    \n",
    "    # Fit and transform the corpus using the vectorizer\n",
    "    tfidf_matrix = vectorizer.fit_transform(corpus)\n",
    "    \n",
    "    # Get the feature names (words in the dictionary)\n",
    "    feature_names = vectorizer.get_feature_names_out()\n",
    "    \n",
    "    return tfidf_matrix, feature_names\n",
    "\n"
   ]
  },
  {
   "cell_type": "code",
   "execution_count": null,
   "metadata": {},
   "outputs": [],
   "source": []
  }
 ],
 "metadata": {
  "kernelspec": {
   "display_name": "Python 3.12.3 ('bio_class': conda)",
   "language": "python",
   "name": "python3"
  },
  "language_info": {
   "codemirror_mode": {
    "name": "ipython",
    "version": 3
   },
   "file_extension": ".py",
   "mimetype": "text/x-python",
   "name": "python",
   "nbconvert_exporter": "python",
   "pygments_lexer": "ipython3",
   "version": "3.12.3"
  },
  "orig_nbformat": 4,
  "vscode": {
   "interpreter": {
    "hash": "e1766e5787634220c7f23f232a177b675317a96cd0271294b227f2c2cc99d721"
   }
  }
 },
 "nbformat": 4,
 "nbformat_minor": 2
}
